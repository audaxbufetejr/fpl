{
  "cells": [
    {
      "cell_type": "markdown",
      "source": [
        "# Import libraries"
      ],
      "metadata": {
        "id": "R3_6O7KpLQKq"
      }
    },
    {
      "cell_type": "code",
      "source": [
        "pip install adjustText"
      ],
      "metadata": {
        "id": "AloMSdIVmtLX"
      },
      "execution_count": null,
      "outputs": []
    },
    {
      "cell_type": "code",
      "execution_count": null,
      "metadata": {
        "id": "yRvb5IXfXD3f"
      },
      "outputs": [],
      "source": [
        "import requests\n",
        "import json\n",
        "import pandas as pd\n",
        "import numpy as np\n",
        "import seaborn as sns\n",
        "import matplotlib.pyplot as plt\n",
        "from matplotlib.ticker import AutoLocator\n",
        "from scipy.stats import percentileofscore\n",
        "from adjustText import adjust_text"
      ]
    },
    {
      "cell_type": "code",
      "execution_count": null,
      "metadata": {
        "id": "WhR-UtYMTZ5W"
      },
      "outputs": [],
      "source": [
        "pd.set_option('display.max_columns', None)\n",
        "pd.set_option('display.expand_frame_repr', False)"
      ]
    },
    {
      "cell_type": "markdown",
      "metadata": {
        "id": "ty1BvRaGoVlG"
      },
      "source": [
        "# Get data"
      ]
    },
    {
      "cell_type": "code",
      "execution_count": null,
      "metadata": {
        "id": "oFR1ihTWqmxM"
      },
      "outputs": [],
      "source": [
        "# creating list of gameweeks\n",
        "gameweeks = []\n",
        "for x in range(39):\n",
        "  gameweeks.append(x)"
      ]
    },
    {
      "cell_type": "code",
      "execution_count": null,
      "metadata": {
        "id": "MrTMSiZV6B93"
      },
      "outputs": [],
      "source": [
        "# static store of .json for all league information\n",
        "# The ‘bootstrap-static’ call returns a huge amouth of information, and is all you really need if you don’t want to get into specific FPL managed teams.\n",
        "\n",
        "# Data included:\n",
        "\n",
        "# A summary of all 38 gameweeks\n",
        "# The game’s settings\n",
        "# Basic information on all 20 PL teams\n",
        "# Total number of FPL Users and overall chip usage\n",
        "# Basic information on all Premier League players\n",
        "# List of stats that FPL keeps track of\n",
        "# The different FPL positions\n",
        "\n",
        "static = requests.get(\"https://fantasy.premierleague.com/api/bootstrap-static/\").json()"
      ]
    },
    {
      "cell_type": "markdown",
      "metadata": {
        "id": "XIt6h-UZuxcT"
      },
      "source": [
        "# Create tables"
      ]
    },
    {
      "cell_type": "markdown",
      "source": [
        "## Fixtures"
      ],
      "metadata": {
        "id": "dA7eR-3B365k"
      }
    },
    {
      "cell_type": "code",
      "source": [
        "# get fixtures data\n",
        "\n",
        "def get_fixtures(link): # this function takes a link and produces a dataframe\n",
        "  fixtures = pd.DataFrame(requests.get(link).json())\n",
        "  return fixtures"
      ],
      "metadata": {
        "id": "IJ6tIA1U2XEJ"
      },
      "execution_count": null,
      "outputs": []
    },
    {
      "cell_type": "code",
      "source": [
        "# create fixtures dataframe\n",
        "fixtures_link = \"https://fantasy.premierleague.com/api/fixtures/\"\n",
        "fixtures = get_fixtures(fixtures_link)\n",
        "fixtures.head()"
      ],
      "metadata": {
        "id": "KrChoDCvhufE"
      },
      "execution_count": null,
      "outputs": []
    },
    {
      "cell_type": "markdown",
      "metadata": {
        "id": "W5E7LNKluznA"
      },
      "source": [
        "## Standings"
      ]
    },
    {
      "cell_type": "code",
      "source": [
        "# get standings data\n",
        "\n",
        "def get_standings(league_id):\n",
        "  link = \"https://fantasy.premierleague.com/api/leagues-classic/\" + str(league_id) + \"/standings\"\n",
        "  standings = requests.get(link).json()\n",
        "  standings_df = pd.DataFrame(standings['standings']['results'])[['entry','id','entry_name','player_name','event_total','total','rank','last_rank','rank_sort']]\n",
        "  standings_df['point_differential'] = standings_df['total'] - standings_df['total'].max()\n",
        "  standings_df['rank_change'] = standings_df['last_rank'] - standings_df['rank']\n",
        "  team_ids = standings_df['entry'].tolist()\n",
        "  return standings_df, team_ids"
      ],
      "metadata": {
        "id": "lvHcT5LLL878"
      },
      "execution_count": null,
      "outputs": []
    },
    {
      "cell_type": "code",
      "source": [
        "# create standings dataframe and list of team_ids\n",
        "league_id = 1028900\n",
        "standings, team_ids = get_standings(league_id)"
      ],
      "metadata": {
        "id": "vWWEk328OOf3"
      },
      "execution_count": null,
      "outputs": []
    },
    {
      "cell_type": "code",
      "source": [
        "standings.head()"
      ],
      "metadata": {
        "id": "LRp4xRIf2vuj"
      },
      "execution_count": null,
      "outputs": []
    },
    {
      "cell_type": "markdown",
      "source": [
        "## EPL Teams"
      ],
      "metadata": {
        "id": "JwXWNLyqnR7H"
      }
    },
    {
      "cell_type": "code",
      "source": [
        "# get epl team data\n",
        "\n",
        "def get_epl_teams(drop_columns, static):\n",
        "  epl_teams = pd.DataFrame(static['teams']).drop(columns=drop_columns)\n",
        "  return epl_teams"
      ],
      "metadata": {
        "id": "9x88e5S5O7xe"
      },
      "execution_count": null,
      "outputs": []
    },
    {
      "cell_type": "code",
      "execution_count": null,
      "metadata": {
        "id": "XBKSmtePBxFE"
      },
      "outputs": [],
      "source": [
        "# epl teams table\n",
        "drop_columns=[\n",
        "    'position',\n",
        "    'team_division',\n",
        "    'unavailable'\n",
        "]\n",
        "epl_teams = get_epl_teams(drop_columns, static)"
      ]
    },
    {
      "cell_type": "code",
      "source": [
        "epl_teams.head()"
      ],
      "metadata": {
        "id": "rtpgS7MB20lj"
      },
      "execution_count": null,
      "outputs": []
    },
    {
      "cell_type": "markdown",
      "metadata": {
        "id": "uhZOjAIM0mux"
      },
      "source": [
        "## Gameweek Stats"
      ]
    },
    {
      "cell_type": "code",
      "source": [
        "# extract team (entry) stats for each gameweek (event)\n",
        "\n",
        "def get_gameweek_stats(team_ids):\n",
        "  gw_stats = pd.DataFrame()\n",
        "  for j in team_ids:\n",
        "    df=pd.DataFrame(requests.get(\"https://fantasy.premierleague.com/api/entry/\"+str(j)+\"/history/\").json()['current'])\n",
        "    df['entry'] = j\n",
        "    gw_stats=pd.concat([gw_stats, df], ignore_index=True)\n",
        "  gw_stats['event'] = gw_stats['event'].astype(int)\n",
        "  gw_stats['rank'] = gw_stats.groupby(['event'])['total_points'].rank(method='first',ascending=False).astype(int)\n",
        "  gw_stats['value'] = gw_stats['value'].astype(int) / 10\n",
        "  return gw_stats"
      ],
      "metadata": {
        "id": "RBa-9YgmRGcD"
      },
      "execution_count": null,
      "outputs": []
    },
    {
      "cell_type": "code",
      "execution_count": null,
      "metadata": {
        "id": "gClCkdvvmU-A"
      },
      "outputs": [],
      "source": [
        "# create gw_stats dataframe for all results\n",
        "gw_stats = get_gameweek_stats(team_ids)\n",
        "gw_stats.head()"
      ]
    },
    {
      "cell_type": "markdown",
      "metadata": {
        "id": "0v9v86vc0qOB"
      },
      "source": [
        "## Global FPL Table"
      ]
    },
    {
      "cell_type": "code",
      "execution_count": null,
      "metadata": {
        "id": "PcSEkuZX1T52"
      },
      "outputs": [],
      "source": [
        "# weekly FPL totals frome static events\n",
        "FPL_totals = pd.DataFrame(static['events']).drop(columns=[\n",
        "    'deadline_time',\n",
        "    'deadline_time_epoch',\n",
        "    'deadline_time_game_offset',\n",
        "    'h2h_ko_matches_created',\n",
        "    'highest_scoring_entry',\n",
        "    'is_previous',\n",
        "    'is_current',\n",
        "    'is_next',\n",
        "    'cup_leagues_created'\n",
        "])\n",
        "\n",
        "# only keep weeks that are finished scoring\n",
        "FPL_totals = FPL_totals[FPL_totals.finished==True]\n",
        "\n",
        "# store the latest week global average score\n",
        "FPL_avg_score = FPL_totals.iloc[-1]['average_entry_score']"
      ]
    },
    {
      "cell_type": "code",
      "source": [
        "FPL_totals.tail()"
      ],
      "metadata": {
        "id": "u2CYlLJ-3LQ5"
      },
      "execution_count": null,
      "outputs": []
    },
    {
      "cell_type": "markdown",
      "metadata": {
        "id": "yenC4Y5YXEcW"
      },
      "source": [
        "## Position Key"
      ]
    },
    {
      "cell_type": "code",
      "execution_count": null,
      "metadata": {
        "id": "Hg5yW0CDiMdC"
      },
      "outputs": [],
      "source": [
        "positions = pd.DataFrame(static['element_types']).drop(columns=[\n",
        "    'plural_name',\n",
        "    'plural_name_short',\n",
        "    'ui_shirt_specific',\n",
        "    'sub_positions_locked'\n",
        "])\n",
        "\n",
        "positions"
      ]
    },
    {
      "cell_type": "markdown",
      "metadata": {
        "id": "16t10JvROg_z"
      },
      "source": [
        "## Squads"
      ]
    },
    {
      "cell_type": "code",
      "source": [
        "def get_squads(team_ids, current_week):\n",
        "  squads = pd.DataFrame()\n",
        "  for i in range(1,current_week+1):\n",
        "    for j in team_ids:\n",
        "      x = requests.get(\"https://fantasy.premierleague.com/api/entry/\"+str(j)+\"/event/\"+str(i)+\"/picks/\").json()\n",
        "      df=pd.DataFrame(x['picks'])\n",
        "      df['entry'] = j\n",
        "      df['event'] = i\n",
        "      squads=pd.concat([squads,df])\n",
        "  return squads"
      ],
      "metadata": {
        "id": "P5RoN6WYP1O5"
      },
      "execution_count": null,
      "outputs": []
    },
    {
      "cell_type": "code",
      "execution_count": null,
      "metadata": {
        "id": "eQm9-uKOTvVn"
      },
      "outputs": [],
      "source": [
        "current_week = gw_stats['event'].max()\n",
        "\n",
        "squads = get_squads(team_ids,current_week)"
      ]
    },
    {
      "cell_type": "code",
      "source": [
        "squads.head()"
      ],
      "metadata": {
        "id": "YTQY7IWZ3a_J"
      },
      "execution_count": null,
      "outputs": []
    },
    {
      "cell_type": "markdown",
      "metadata": {
        "id": "lHCgiIsOS7ji"
      },
      "source": [
        "## Weekly Player Stats"
      ]
    },
    {
      "cell_type": "code",
      "source": [
        "def get_player_stats(current_week):\n",
        "  player_stats = pd.DataFrame()\n",
        "  for i in range(1,current_week+1):\n",
        "    df=pd.DataFrame(requests.get(\"https://fantasy.premierleague.com/api/event/\"+str(i)+\"/live/\").json())\n",
        "    df['week'] = i\n",
        "    for key in df['elements'][0].keys():\n",
        "      df[key] = df['elements'].apply(lambda x: x[key])\n",
        "    for key in df['elements'][0]['stats'].keys():\n",
        "      df[key] = df['stats'].apply(lambda x: x[key])\n",
        "    player_stats = pd.concat([player_stats,df])\n",
        "  player_stats = player_stats.drop(columns=['elements','stats','explain'])\n",
        "  return player_stats"
      ],
      "metadata": {
        "id": "fnXcr8y4RqHb"
      },
      "execution_count": null,
      "outputs": []
    },
    {
      "cell_type": "code",
      "source": [
        "player_stats = get_player_stats(current_week)\n",
        "player_stats.head()"
      ],
      "metadata": {
        "id": "pdDiwU1U3kEV"
      },
      "execution_count": null,
      "outputs": []
    },
    {
      "cell_type": "markdown",
      "metadata": {
        "id": "iaUETsNEY7fT"
      },
      "source": [
        "## Player Summary"
      ]
    },
    {
      "cell_type": "code",
      "execution_count": null,
      "metadata": {
        "id": "bpkNef-Y446Z"
      },
      "outputs": [],
      "source": [
        "# player stats and info\n",
        "players = pd.DataFrame(static['elements'])\n",
        "\n",
        "float_convert_list = [\n",
        "    'selected_by_percent',\n",
        "    'value_form',\n",
        "    'value_season',\n",
        "    'influence',\n",
        "    'creativity',\n",
        "    'threat',\n",
        "    'ict_index',\n",
        "    'form',\n",
        "    'points_per_game',\n",
        "    'expected_assists',\n",
        "    'expected_goals',\n",
        "    'expected_goal_involvements',\n",
        "    'expected_goals_conceded'\n",
        "]\n",
        "\n",
        "for x in float_convert_list:\n",
        "  players[x] = players[x].astype(float)"
      ]
    },
    {
      "cell_type": "code",
      "source": [
        "players.head()"
      ],
      "metadata": {
        "id": "HR3EypdzmJ3A"
      },
      "execution_count": null,
      "outputs": []
    },
    {
      "cell_type": "markdown",
      "metadata": {
        "id": "2B8LziM8badb"
      },
      "source": [
        "## Player Position Bridge"
      ]
    },
    {
      "cell_type": "code",
      "execution_count": null,
      "metadata": {
        "id": "qCMm3LqmbdUG"
      },
      "outputs": [],
      "source": [
        "player_positions = players[['element_type','id','first_name','second_name','web_name']].merge(positions[['id','singular_name']], how='inner',left_on='element_type',right_on='id').drop(columns=['element_type','id_y'])\n",
        "player_positions.columns = ['player_id','first_name','second_name','web_name','position']\n",
        "player_positions"
      ]
    },
    {
      "cell_type": "markdown",
      "metadata": {
        "id": "kc4geznH2RTX"
      },
      "source": [
        "# Visuals"
      ]
    },
    {
      "cell_type": "markdown",
      "metadata": {
        "id": "MjrFVHyWUV6-"
      },
      "source": [
        "## Standings"
      ]
    },
    {
      "cell_type": "code",
      "execution_count": null,
      "metadata": {
        "id": "Brarzf02UXXP"
      },
      "outputs": [],
      "source": [
        "data=standings[['rank','rank_change','entry_name', 'player_name','event_total','total','point_differential']]\n",
        "data.columns = ['Place', 'Place Change','Team Name','Manager','Gameweek Points','Total Points','Total Point Differential']\n",
        "data"
      ]
    },
    {
      "cell_type": "markdown",
      "metadata": {
        "id": "mhfquJsk2TdK"
      },
      "source": [
        "## Standings by week"
      ]
    },
    {
      "cell_type": "code",
      "execution_count": null,
      "metadata": {
        "id": "ffj_qb4_va41"
      },
      "outputs": [],
      "source": [
        "data=pd.merge(\n",
        "      gw_stats[['entry','event','rank']],\n",
        "      standings[['entry','entry_name']],\n",
        "      on='entry'\n",
        ")\n",
        "\n",
        "plt.figure(figsize=(10,5))\n",
        "\n",
        "sns.lineplot(\n",
        "    data=data,\n",
        "    x='event',\n",
        "    y='rank',\n",
        "    hue='entry_name',\n",
        "    markers=True,\n",
        "    marker='s',\n",
        "    markersize=10\n",
        ")\n",
        "\n",
        "plt.yticks([x for x in range(1,11)])\n",
        "plt.xlabel('Gameweek')\n",
        "plt.xticks(range(data['event'].min(), data['event'].max()+1))\n",
        "plt.ylabel('Table Position')\n",
        "plt.gca().invert_yaxis()\n",
        "plt.title('Position by Gameweek')\n",
        "\n",
        "plt.legend(\n",
        "    loc='lower center',\n",
        "    bbox_to_anchor=(0.5,-0.30),\n",
        "    ncol=5\n",
        ")"
      ]
    },
    {
      "cell_type": "markdown",
      "metadata": {
        "id": "Igd9hR7aUMJj"
      },
      "source": [
        "## Squad Value"
      ]
    },
    {
      "cell_type": "code",
      "execution_count": null,
      "metadata": {
        "id": "MVSC1jYIUPKX"
      },
      "outputs": [],
      "source": [
        "data = pd.merge(\n",
        "      gw_stats[['entry','event','value']],\n",
        "      standings[['entry','entry_name']],\n",
        "      on='entry'\n",
        ")\n",
        "\n",
        "plt.figure(figsize=(10,5))\n",
        "\n",
        "sns.lineplot(\n",
        "    data=data,\n",
        "    x='event',\n",
        "    y='value',\n",
        "    hue='entry_name',\n",
        "    markers=True,\n",
        "    marker='s',\n",
        "    markersize=10\n",
        ")\n",
        "\n",
        "plt.xlabel('Gameweek')\n",
        "plt.xticks(range(data['event'].min(), data['event'].max()+1))\n",
        "plt.ylabel('Squad Value')\n",
        "plt.title('Squad Value')\n",
        "\n",
        "plt.legend(\n",
        "    loc='lower center',\n",
        "    bbox_to_anchor=(0.5,-0.30),\n",
        "    ncol=5\n",
        ")"
      ]
    },
    {
      "cell_type": "markdown",
      "metadata": {
        "id": "QaK7wu8L4ELP"
      },
      "source": [
        "## Points Behind 1st"
      ]
    },
    {
      "cell_type": "code",
      "execution_count": null,
      "metadata": {
        "id": "GcAUzY7mB3Lq"
      },
      "outputs": [],
      "source": [
        "# get entry name on the gw_stats df\n",
        "data=pd.merge(\n",
        "      gw_stats[['entry','event','total_points']],\n",
        "      standings[['entry','entry_name']],\n",
        "      on='entry'\n",
        "  )\n",
        "\n",
        "# create a point differential from the leader each week by team\n",
        "data['pt_diff'] = data['total_points'] - data.groupby(['event'])['total_points'].transform('max')\n",
        "plt.figure(figsize=(10,5))\n",
        "\n",
        "sns.lineplot(\n",
        "    data=data,\n",
        "    x='event',\n",
        "    y='pt_diff',\n",
        "    hue='entry_name',\n",
        "    markers=True,\n",
        "    marker='s',\n",
        "    markersize=10\n",
        ")\n",
        "\n",
        "plt.xlabel('Gameweek')\n",
        "plt.ylabel('Points from First')\n",
        "plt.xticks(range(data['event'].min(), data['event'].max()+1))\n",
        "plt.legend(\n",
        "    loc='lower center',\n",
        "    bbox_to_anchor=(0.5,-0.30),\n",
        "    ncol=5\n",
        ")"
      ]
    },
    {
      "cell_type": "markdown",
      "metadata": {
        "id": "BnsTycdz6wgB"
      },
      "source": [
        "## Weekly Average Scores"
      ]
    },
    {
      "cell_type": "code",
      "execution_count": null,
      "metadata": {
        "id": "0wbhzZhrFUi_"
      },
      "outputs": [],
      "source": [
        "# adding entry name to gw_stats\n",
        "data=pd.merge(\n",
        "      gw_stats[['entry','event','points']],\n",
        "      standings[['entry','entry_name']],\n",
        "      on='entry'\n",
        "  )\n",
        "\n",
        "# creating df for weekly average global scores\n",
        "data2=FPL_totals[['id','average_entry_score','name']]\n",
        "data2.columns=['entry','points','entry_name']\n",
        "data2['entry_name'] = 'FPL Average'\n",
        "\n",
        "plt.figure(figsize=(10,5))\n",
        "\n",
        "# plot gw_stat scores\n",
        "sns.lineplot(\n",
        "    data=data,\n",
        "    x='event',\n",
        "    y='points',\n",
        "    hue='entry_name',\n",
        "    markers=True,\n",
        "    marker='s',\n",
        "    markersize=10\n",
        ")\n",
        "\n",
        "# plot fpl weekly global average\n",
        "sns.lineplot(\n",
        "    x=data['event'],\n",
        "    y=data2['points'],\n",
        "    linestyle='--',\n",
        "    marker='o',\n",
        "    label='FPL Avg',\n",
        "    color='black',\n",
        "    markersize = 15,\n",
        "    linewidth=2\n",
        ")\n",
        "\n",
        "plt.xlabel('Gameweek')\n",
        "plt.ylabel('Points')\n",
        "plt.xticks(range(data['event'].min(), data['event'].max()+1))\n",
        "plt.legend(\n",
        "    loc='lower center',\n",
        "    bbox_to_anchor=(0.5,-0.30),\n",
        "    ncol=5\n",
        ")\n",
        "plt.title('Weekly Points')"
      ]
    },
    {
      "cell_type": "markdown",
      "metadata": {
        "id": "56WhWblVSHlR"
      },
      "source": [
        "## TOTWs"
      ]
    },
    {
      "cell_type": "code",
      "execution_count": null,
      "metadata": {
        "id": "biQoDDz5Pkfc"
      },
      "outputs": [],
      "source": [
        "data = pd.merge(squads[['element','event','entry']], player_stats[player_stats.in_dreamteam == True][['week','id','in_dreamteam']], how='inner',left_on=['element','event'], right_on=['id','week'])\n",
        "data = pd.merge(data[['week','entry','in_dreamteam']].groupby(['week','entry']).count().reset_index(), standings[['entry','entry_name']], how='inner', on='entry')\n",
        "data = data.drop(columns=['entry'])\n",
        "data.columns = ['week','totws','entry_name']"
      ]
    },
    {
      "cell_type": "code",
      "execution_count": null,
      "metadata": {
        "id": "gSu6RwOoUzwI"
      },
      "outputs": [],
      "source": [
        "plt.figure(figsize=(10,5))\n",
        "\n",
        "sns.barplot(\n",
        "    data = data[['entry_name','totws']].groupby('entry_name').sum().sort_values('totws', ascending=False).reset_index(),\n",
        "    x='totws',\n",
        "    y='entry_name'\n",
        ")\n",
        "\n",
        "plt.title('Team Of The Week Picks')\n",
        "plt.xlabel('')\n",
        "plt.ylabel('')"
      ]
    },
    {
      "cell_type": "markdown",
      "metadata": {
        "id": "knI9dUZd8jXx"
      },
      "source": [
        "## Players Below FPL Global Average"
      ]
    },
    {
      "cell_type": "code",
      "execution_count": null,
      "metadata": {
        "id": "L9HJvzF-sft2"
      },
      "outputs": [],
      "source": [
        "data = standings[standings.event_total < FPL_avg_score][['rank','entry_name', 'player_name','event_total']].sort_values('event_total', ascending=False)\n",
        "data['diff'] = data['event_total'] - FPL_avg_score\n",
        "data.columns = ['rank', 'team', 'manager', 'week_score', 'vs_avg']\n",
        "data"
      ]
    },
    {
      "cell_type": "markdown",
      "metadata": {
        "id": "YcKh0NG78-BB"
      },
      "source": [
        "## Team Score Boxplot"
      ]
    },
    {
      "cell_type": "code",
      "execution_count": null,
      "metadata": {
        "id": "8zOrQZEJElkF"
      },
      "outputs": [],
      "source": [
        "data=pd.merge(\n",
        "      gw_stats[['entry','event','points']],\n",
        "      standings[['entry','entry_name']],\n",
        "      on='entry'\n",
        "  )\n",
        "\n",
        "plt.figure(figsize=(10,5))\n",
        "\n",
        "sns.boxplot(\n",
        "    data=data,\n",
        "    x='entry_name',\n",
        "    y='points'\n",
        ")\n",
        "\n",
        "plt.xticks(rotation=20)\n",
        "plt.xlabel('Team')\n",
        "plt.ylabel('Points')"
      ]
    },
    {
      "cell_type": "markdown",
      "metadata": {
        "id": "nnVd5zSTVXIg"
      },
      "source": [
        "## Player Value"
      ]
    },
    {
      "cell_type": "markdown",
      "source": [
        "## Top Player Shortlist\n",
        "\n",
        "using the following features to create the shortlist:\n",
        "\n",
        "- form\n",
        "  - goal involvements\n",
        "  - xgi\n",
        "  - clean sheets (defenders)\n",
        "  - bonus points\n",
        "- fixtures"
      ],
      "metadata": {
        "id": "8EEdH93ZyAh7"
      }
    },
    {
      "cell_type": "markdown",
      "source": [
        "### Fixture Difficulty"
      ],
      "metadata": {
        "id": "_0vtSm6EopdG"
      }
    },
    {
      "cell_type": "code",
      "source": [
        "a = players[['id','first_name','second_name','web_name','element_type','team','team_code','now_cost','selected_by_percent','form','value_season','value_form','total_points','bonus','minutes','goals_scored','assists','clean_sheets','goals_conceded','yellow_cards','saves','ict_index','starts','expected_goal_involvements','expected_goals_conceded','corners_and_indirect_freekicks_order','direct_freekicks_order','penalties_order','expected_goal_involvements_per_90','saves_per_90','expected_goals_conceded_per_90','goals_conceded_per_90','clean_sheets_per_90']]\n",
        "\n",
        "players_df = pd.merge(\n",
        "    a,\n",
        "    positions[['id','singular_name']],\n",
        "    left_on='element_type',\n",
        "    right_on='id'\n",
        ").drop(columns=['id_y']).rename(columns={'id_x':'id'})\n",
        "\n",
        "\n",
        "fixtures_df = pd.merge(\n",
        "    epl_teams[['code','id','name','strength','strength_overall_home','strength_overall_away','strength_attack_home','strength_attack_away','strength_defence_home','strength_defence_away']],\n",
        "    fixtures[(fixtures.event>current_week)&(fixtures.event<=current_week+5)][['team_a','team_h','team_a_difficulty']].groupby('team_a').agg({'team_h':'count','team_a_difficulty':'sum'}).sort_values('team_a').reset_index(),\n",
        "    left_on='id',\n",
        "    right_on='team_a'\n",
        ").drop(columns=['team_a']).rename(columns={'team_h':'away_games','team_a_difficulty':'away_difficulty'})\n",
        "\n",
        "fixtures_df = fixtures_df.merge(\n",
        "    fixtures[(fixtures.event>current_week)&(fixtures.event<=current_week+5)][['team_h','team_a','team_h_difficulty']].groupby('team_h').agg({'team_a':'count','team_h_difficulty':'sum'}).sort_values('team_h').reset_index(),\n",
        "    left_on='id',\n",
        "    right_on='team_h'\n",
        ").drop(columns=['team_h']).rename(columns={'team_a':'home_games','team_h_difficulty':'home_difficulty'})\n",
        "\n",
        "fixtures_df['total_games_next_five'] = fixtures_df['away_games'] + fixtures_df['home_games']\n",
        "fixtures_df['total_difficulty_next_five'] = fixtures_df['away_difficulty'] + fixtures_df['home_difficulty']\n",
        "fixtures_df['adj_away_difficulty'] = fixtures_df['away_difficulty'] * 1.22\n",
        "fixtures_df['adj_total_difficulty_next_five'] = fixtures_df['adj_away_difficulty'] + fixtures_df['home_difficulty']\n",
        "\n",
        "shortlist = pd.merge(\n",
        "    players_df[['team','first_name','second_name','web_name','singular_name','now_cost','selected_by_percent','form','value_form','total_points','value_season','bonus','minutes','goals_scored','assists','clean_sheets','goals_conceded','yellow_cards','saves','ict_index','expected_goal_involvements','expected_goals_conceded','corners_and_indirect_freekicks_order','direct_freekicks_order','penalties_order']],\n",
        "    fixtures_df[['id','name','strength','away_games','away_difficulty','home_games','home_difficulty','total_games_next_five','total_difficulty_next_five','adj_away_difficulty','adj_total_difficulty_next_five']],\n",
        "    left_on='team',\n",
        "    right_on='id'\n",
        ").drop(columns=['team','id']).rename(columns={'name':'team_name'}).sort_values('total_points', ascending=False)\n",
        "\n",
        "shortlist['goal_involvements'] = shortlist['goals_scored'] + shortlist['assists']"
      ],
      "metadata": {
        "id": "QOc_b7yWyDRh"
      },
      "execution_count": null,
      "outputs": []
    },
    {
      "cell_type": "code",
      "source": [
        "data = fixtures_df[['name','strength','adj_total_difficulty_next_five']].sort_values('adj_total_difficulty_next_five')\n",
        "\n",
        "plt.figure(figsize=(10,10))\n",
        "\n",
        "sns.barplot(\n",
        "    data=data,\n",
        "    x='adj_total_difficulty_next_five',\n",
        "    y='name',\n",
        "    # color = 'blue',\n",
        "    hue='strength',\n",
        "    dodge=False,\n",
        "    palette='tab10'\n",
        ")\n",
        "\n",
        "plt.title('Next Five Fixture Difficulty')\n",
        "plt.xlabel('Adjusted Total Difficulty, Next Five Fictures')"
      ],
      "metadata": {
        "id": "O-lbjczMaYJm"
      },
      "execution_count": null,
      "outputs": []
    },
    {
      "cell_type": "markdown",
      "source": [
        "## Top 30 Players"
      ],
      "metadata": {
        "id": "Nzy_2SEgeKXk"
      }
    },
    {
      "cell_type": "code",
      "source": [
        "df=shortlist[['web_name','singular_name','team_name','now_cost','total_points','form','adj_total_difficulty_next_five']].sort_values('form',ascending=False).head(30).reset_index()\n",
        "df['now_cost'] = df['now_cost'] / 10\n",
        "df.columns = ['index','name','position','team','cost','total_points','form','fixture_difficulty']\n",
        "df.drop(columns='index')"
      ],
      "metadata": {
        "id": "DXS4vADCBTfE"
      },
      "execution_count": null,
      "outputs": []
    },
    {
      "cell_type": "code",
      "source": [
        "data = df[['position','name']].groupby('position').count().sort_values('name', ascending=False).reset_index()\n",
        "data['pc'] = data['name'] / data['name'].sum()\n",
        "\n",
        "sns.barplot(\n",
        "    data=data,\n",
        "    x='position',\n",
        "    y='name'\n",
        ")\n",
        "\n",
        "plt.xlabel('Position')\n",
        "plt.ylabel('# of Top 30')\n",
        "plt.title('Top Players by Position')"
      ],
      "metadata": {
        "id": "KUU8rFjnCPOa"
      },
      "execution_count": null,
      "outputs": []
    },
    {
      "cell_type": "code",
      "source": [
        "data=df[['position','total_points']].groupby('position').sum().sort_values('total_points',ascending=False).reset_index()\n",
        "data['pc'] = data['total_points'] / data['total_points'].sum()\n",
        "data"
      ],
      "metadata": {
        "id": "2TtBCODpDWE4"
      },
      "execution_count": null,
      "outputs": []
    },
    {
      "cell_type": "code",
      "source": [
        "sns.barplot(\n",
        "    data=data,\n",
        "    x='position',\n",
        "    y='pc'\n",
        ")\n",
        "\n",
        "plt.title('Points from Positions')\n",
        "plt.xlabel('Position')\n",
        "plt.ylabel('% of All Points')"
      ],
      "metadata": {
        "id": "pHytM38xEyEu"
      },
      "execution_count": null,
      "outputs": []
    },
    {
      "cell_type": "markdown",
      "source": [
        "# Exploration"
      ],
      "metadata": {
        "id": "VVXIsKoabQja"
      }
    },
    {
      "cell_type": "code",
      "execution_count": null,
      "metadata": {
        "id": "w7ZepKs0R8Ck"
      },
      "outputs": [],
      "source": [
        "selections = squads[['element','entry']].groupby('element').count().reset_index().sort_values('entry',ascending=False).merge(player_positions[['player_id','web_name','position']], how='inner', left_on='element', right_on='player_id')\n",
        "selections = selections[['player_id','web_name','position','entry']]\n",
        "selections['selections_percent'] = round(100 * selections['entry'] / (10 * current_week))\n",
        "selections.columns = ['Player_ID','Player','Position','Selections', 'Selected_Percent']\n",
        "selections.head()"
      ]
    },
    {
      "cell_type": "code",
      "execution_count": null,
      "metadata": {
        "id": "pECeN5qkSGbC"
      },
      "outputs": [],
      "source": [
        "weekly_selections = squads[['element','event','entry']].groupby(['element','event']).agg({'entry':'count'}).sort_values(['event','entry'],ascending=[True,False]).reset_index()\n",
        "weekly_selections['selection_percent'] = round(100 * weekly_selections['entry'] / 10)\n",
        "weekly_selections.head()"
      ]
    },
    {
      "cell_type": "code",
      "execution_count": null,
      "metadata": {
        "id": "RlzbkEzNUbnB"
      },
      "outputs": [],
      "source": [
        "weekly_selections"
      ]
    },
    {
      "cell_type": "code",
      "execution_count": null,
      "metadata": {
        "id": "yO7_qr8NkQC3"
      },
      "outputs": [],
      "source": [
        "weekly_selections[['selection_percent','element']].groupby('selection_percent').count().sort_values('selection_percent',ascending=False).reset_index()"
      ]
    },
    {
      "cell_type": "markdown",
      "source": [
        "## Weekly Player Performance"
      ],
      "metadata": {
        "id": "TWKDSghH7QRR"
      }
    },
    {
      "cell_type": "markdown",
      "source": [
        "### Defenders"
      ],
      "metadata": {
        "id": "17wi9H1D7U-O"
      }
    },
    {
      "cell_type": "code",
      "source": [
        "a = player_stats[player_stats.total_points>0][['id','total_points']]\n",
        "\n",
        "a['blank'] = np.where(a['total_points']<=3, 1, 0)\n",
        "a['return'] = np.where(((a['total_points']>3)&(a['total_points']<=9)),1,0)\n",
        "a['haul'] = np.where(a['total_points']>9,1,0)\n",
        "a = a.groupby('id').agg({'total_points':'sum','blank':'sum','return':'sum','haul':'sum'}).sort_values(['haul','return','blank'], ascending=[False,False,True]).reset_index()\n",
        "a.head()"
      ],
      "metadata": {
        "id": "YDI3DIoLfKST"
      },
      "execution_count": null,
      "outputs": []
    },
    {
      "cell_type": "code",
      "source": [
        "b = pd.merge(\n",
        "      players[['id','first_name','second_name','web_name','team','element_type','now_cost','ict_index','expected_goal_involvements']],\n",
        "      positions[['id','singular_name']],\n",
        "      how='inner',\n",
        "      left_on='element_type',\n",
        "      right_on='id'\n",
        ").drop(columns=['element_type','id_y'])\n",
        "# b = players[['id','first_name','second_name','web_name','team','element_type','now_cost','ict_index','expected_goal_involvements']]\n",
        "b.rename(columns={'id_x':'id'},inplace=True)\n",
        "b.head()"
      ],
      "metadata": {
        "id": "J6xErJ5R8T6G"
      },
      "execution_count": null,
      "outputs": []
    },
    {
      "cell_type": "code",
      "source": [
        "c = pd.merge(\n",
        "  a,\n",
        "  b,\n",
        "  how='inner',\n",
        "  on='id'\n",
        ")\n",
        "c.head()"
      ],
      "metadata": {
        "id": "tmtXRmL-9NCn"
      },
      "execution_count": null,
      "outputs": []
    },
    {
      "cell_type": "code",
      "source": [
        "c[c.singular_name=='Defender'][['web_name','now_cost','total_points','haul','return','expected_goal_involvements','ict_index']].head(20)"
      ],
      "metadata": {
        "id": "whmCv7Mi8r_E"
      },
      "execution_count": null,
      "outputs": []
    },
    {
      "cell_type": "code",
      "source": [
        "c[c.singular_name=='Midfielder'][['web_name','now_cost','total_points','haul','return','expected_goal_involvements','ict_index']].head(20)"
      ],
      "metadata": {
        "id": "J1UsupDv9EFw"
      },
      "execution_count": null,
      "outputs": []
    },
    {
      "cell_type": "code",
      "source": [
        "c[c.singular_name=='Forward'][['web_name','now_cost','total_points','haul','return','expected_goal_involvements','ict_index']].head(20)"
      ],
      "metadata": {
        "id": "08VNzMoD9m_f"
      },
      "execution_count": null,
      "outputs": []
    },
    {
      "cell_type": "markdown",
      "source": [
        "## League Owned"
      ],
      "metadata": {
        "id": "aTk9UcyDY4wp"
      }
    },
    {
      "cell_type": "code",
      "source": [
        "players[players.total_points > 0][['id','web_name','first_name','second_name','now_cost','total_points','expected_goal_involvements','expected_goals','goals_scored','assists','ict_index']].sort_values('total_points',ascending=False).head()"
      ],
      "metadata": {
        "id": "FaE62d3nWfrd"
      },
      "execution_count": null,
      "outputs": []
    },
    {
      "cell_type": "code",
      "source": [
        "squads.head()"
      ],
      "metadata": {
        "id": "6gyxdB_bYQ78"
      },
      "execution_count": null,
      "outputs": []
    },
    {
      "cell_type": "code",
      "source": [
        "squads['player_count'] = squads.groupby(['event','element'])['entry'].transform('nunique')"
      ],
      "metadata": {
        "id": "dreQIMNPdF0N"
      },
      "execution_count": null,
      "outputs": []
    },
    {
      "cell_type": "code",
      "source": [
        "squads[squads.element==355]"
      ],
      "metadata": {
        "id": "yv2_yVW6dscZ"
      },
      "execution_count": null,
      "outputs": []
    },
    {
      "cell_type": "code",
      "source": [
        "data = pd.merge(\n",
        "    squads[['event','element','player_count']].groupby(['event','element']).max().reset_index(),\n",
        "    players[['id','web_name','first_name','second_name','total_points']],\n",
        "    left_on='element',\n",
        "    right_on='id',\n",
        "    how='inner'\n",
        ").sort_values(['event','player_count'], ascending=[True,False])"
      ],
      "metadata": {
        "id": "hAa_VWQidwh7"
      },
      "execution_count": null,
      "outputs": []
    },
    {
      "cell_type": "code",
      "source": [
        "data"
      ],
      "metadata": {
        "id": "xYwrufOEfps1"
      },
      "execution_count": null,
      "outputs": []
    },
    {
      "cell_type": "code",
      "source": [
        "# unique players per week\n",
        "data[['event','element']].groupby('event').nunique().sort_values(['event','element'], ascending=[True,False]).reset_index()"
      ],
      "metadata": {
        "id": "3VcFv3l2ft_b"
      },
      "execution_count": null,
      "outputs": []
    },
    {
      "cell_type": "code",
      "source": [
        "data[data.event==current_week][['event','web_name','player_count','total_points']]"
      ],
      "metadata": {
        "id": "oEVMQ72uhYtH"
      },
      "execution_count": null,
      "outputs": []
    },
    {
      "cell_type": "code",
      "source": [],
      "metadata": {
        "id": "n6JdogoqhoZx"
      },
      "execution_count": null,
      "outputs": []
    }
  ],
  "metadata": {
    "colab": {
      "provenance": [],
      "toc_visible": true,
      "collapsed_sections": [
        "R3_6O7KpLQKq",
        "dA7eR-3B365k",
        "W5E7LNKluznA",
        "JwXWNLyqnR7H"
      ],
      "authorship_tag": "ABX9TyM6A9R0uuFdokHg3fozg94Z"
    },
    "kernelspec": {
      "display_name": "Python 3",
      "name": "python3"
    },
    "language_info": {
      "name": "python"
    }
  },
  "nbformat": 4,
  "nbformat_minor": 0
}